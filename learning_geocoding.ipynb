{
 "cells": [
  {
   "cell_type": "markdown",
   "id": "108adb00",
   "metadata": {},
   "source": [
    "# Learning Geocoding\n",
    "### Understanding how to convert addresses to latitude/longitude coordinates using Google Maps API\n",
    "Learned via tutorial at https://medium.datadriveninvestor.com/turning-addresses-into-coordinates-de6198b22905"
   ]
  },
  {
   "cell_type": "markdown",
   "id": "9b979806",
   "metadata": {},
   "source": [
    "#### First, intall the googlemaps library:\n",
    "\n",
    "`pip install googlemaps`\n",
    "\n",
    "OR\n",
    "\n",
    "`conda install -c conda-forge googlemaps`"
   ]
  },
  {
   "cell_type": "markdown",
   "id": "85e727cd",
   "metadata": {},
   "source": [
    "#### Imports, etc. \n",
    "\n",
    "Note: must first create a Google Cloud account to get an API key (must add create billing account and add credit card, but small-time use is not charged)"
   ]
  },
  {
   "cell_type": "code",
   "execution_count": 1,
   "id": "e1e66910",
   "metadata": {},
   "outputs": [],
   "source": [
    "import googlemaps\n",
    "from env import api_key\n",
    "gmaps = googlemaps.Client(key=api_key)"
   ]
  },
  {
   "cell_type": "markdown",
   "id": "9dbdf772",
   "metadata": {},
   "source": [
    "#### Passing an address to the google maps geocode() function returns a json as follows:\n",
    "(location lat/lng coordinates are found at `json[0]['geometry']['location']`"
   ]
  },
  {
   "cell_type": "code",
   "execution_count": 2,
   "id": "00645765",
   "metadata": {},
   "outputs": [
    {
     "data": {
      "text/plain": [
       "[{'address_components': [{'long_name': '600',\n",
       "    'short_name': '600',\n",
       "    'types': ['subpremise']},\n",
       "   {'long_name': '600', 'short_name': '600', 'types': ['street_number']},\n",
       "   {'long_name': 'Navarro Street',\n",
       "    'short_name': 'Navarro St',\n",
       "    'types': ['route']},\n",
       "   {'long_name': 'Downtown',\n",
       "    'short_name': 'Downtown',\n",
       "    'types': ['neighborhood', 'political']},\n",
       "   {'long_name': 'San Antonio',\n",
       "    'short_name': 'San Antonio',\n",
       "    'types': ['locality', 'political']},\n",
       "   {'long_name': 'Bexar County',\n",
       "    'short_name': 'Bexar County',\n",
       "    'types': ['administrative_area_level_2', 'political']},\n",
       "   {'long_name': 'Texas',\n",
       "    'short_name': 'TX',\n",
       "    'types': ['administrative_area_level_1', 'political']},\n",
       "   {'long_name': 'United States',\n",
       "    'short_name': 'US',\n",
       "    'types': ['country', 'political']},\n",
       "   {'long_name': '78205', 'short_name': '78205', 'types': ['postal_code']}],\n",
       "  'formatted_address': '600 Navarro St #600, San Antonio, TX 78205, USA',\n",
       "  'geometry': {'location': {'lat': 29.4267857, 'lng': -98.4895763},\n",
       "   'location_type': 'ROOFTOP',\n",
       "   'viewport': {'northeast': {'lat': 29.4281346802915,\n",
       "     'lng': -98.4882273197085},\n",
       "    'southwest': {'lat': 29.4254367197085, 'lng': -98.4909252802915}}},\n",
       "  'place_id': 'ChIJK2YsoFRfXIYRwm4P5YL94jg',\n",
       "  'types': ['subpremise']}]"
      ]
     },
     "execution_count": 2,
     "metadata": {},
     "output_type": "execute_result"
    }
   ],
   "source": [
    "gmaps.geocode('600 Navarro St #600, San Antonio, TX 78205')"
   ]
  },
  {
   "cell_type": "markdown",
   "id": "d9952d95",
   "metadata": {},
   "source": [
    "#### We can define a function to accept an address and return a dictionary containig the lat/lng coordinates from the gmaps.geocode() result"
   ]
  },
  {
   "cell_type": "code",
   "execution_count": 3,
   "id": "a063cdb4",
   "metadata": {},
   "outputs": [],
   "source": [
    "def get_coords(address):\n",
    "    geocode_result = gmaps.geocode(address)\n",
    "    return geocode_result[0]['geometry']['location'] "
   ]
  },
  {
   "cell_type": "code",
   "execution_count": 4,
   "id": "5d7f5815",
   "metadata": {},
   "outputs": [
    {
     "data": {
      "text/plain": [
       "{'lat': 29.4267857, 'lng': -98.4895763}"
      ]
     },
     "execution_count": 4,
     "metadata": {},
     "output_type": "execute_result"
    }
   ],
   "source": [
    "codeup_location = get_coords('600 Navarro St #600, San Antonio, TX 78205')\n",
    "codeup_location"
   ]
  },
  {
   "cell_type": "markdown",
   "id": "e48ca9b9",
   "metadata": {},
   "source": [
    "Note: for real-world applications, we should enhance the get_coords() function to accept addresses in multiple formats (or define a function that will convert addresses to the appropriate format). We should also account for the possibility that the call to gmaps.geocode() will not return the expected result. "
   ]
  },
  {
   "cell_type": "markdown",
   "id": "a301fe79",
   "metadata": {},
   "source": [
    "## Incorporating it into a larger dataset"
   ]
  },
  {
   "cell_type": "code",
   "execution_count": 5,
   "id": "801e08cc",
   "metadata": {},
   "outputs": [],
   "source": [
    "import numpy as np\n",
    "import pandas as pd"
   ]
  },
  {
   "cell_type": "markdown",
   "id": "387fc744",
   "metadata": {},
   "source": [
    "#### Starting with a dataframe of address strings:"
   ]
  },
  {
   "cell_type": "code",
   "execution_count": 6,
   "id": "82e96796",
   "metadata": {},
   "outputs": [
    {
     "data": {
      "text/html": [
       "<div>\n",
       "<style scoped>\n",
       "    .dataframe tbody tr th:only-of-type {\n",
       "        vertical-align: middle;\n",
       "    }\n",
       "\n",
       "    .dataframe tbody tr th {\n",
       "        vertical-align: top;\n",
       "    }\n",
       "\n",
       "    .dataframe thead th {\n",
       "        text-align: right;\n",
       "    }\n",
       "</style>\n",
       "<table border=\"1\" class=\"dataframe\">\n",
       "  <thead>\n",
       "    <tr style=\"text-align: right;\">\n",
       "      <th></th>\n",
       "      <th>name</th>\n",
       "      <th>address</th>\n",
       "    </tr>\n",
       "  </thead>\n",
       "  <tbody>\n",
       "    <tr>\n",
       "      <th>0</th>\n",
       "      <td>Codeup</td>\n",
       "      <td>600 Navarro St #600, San Antonio, TX 78205</td>\n",
       "    </tr>\n",
       "    <tr>\n",
       "      <th>1</th>\n",
       "      <td>Schilo's</td>\n",
       "      <td>424 E Commerce St, San Antonio, TX 78205</td>\n",
       "    </tr>\n",
       "    <tr>\n",
       "      <th>2</th>\n",
       "      <td>Bunz</td>\n",
       "      <td>122 E Houston St, San Antonio, TX 78205</td>\n",
       "    </tr>\n",
       "  </tbody>\n",
       "</table>\n",
       "</div>"
      ],
      "text/plain": [
       "       name                                     address\n",
       "0    Codeup  600 Navarro St #600, San Antonio, TX 78205\n",
       "1  Schilo's    424 E Commerce St, San Antonio, TX 78205\n",
       "2      Bunz     122 E Houston St, San Antonio, TX 78205"
      ]
     },
     "execution_count": 6,
     "metadata": {},
     "output_type": "execute_result"
    }
   ],
   "source": [
    "names = ['Codeup', \n",
    "         'Schilo\\'s',\n",
    "         'Bunz']\n",
    "\n",
    "addresses = ['600 Navarro St #600, San Antonio, TX 78205',\n",
    "             '424 E Commerce St, San Antonio, TX 78205',\n",
    "             '122 E Houston St, San Antonio, TX 78205']\n",
    "\n",
    "df = pd.DataFrame({'name': names, 'address': addresses})\n",
    "df"
   ]
  },
  {
   "cell_type": "markdown",
   "id": "685ddf23",
   "metadata": {},
   "source": [
    "#### Get the coordintes for each address:"
   ]
  },
  {
   "cell_type": "code",
   "execution_count": 7,
   "id": "e01088b3",
   "metadata": {},
   "outputs": [],
   "source": [
    "# create a new column named 'coordinates' and populate it with the result of get_coords() for each address\n",
    "df['coordinates'] = df.address.apply(get_coords)"
   ]
  },
  {
   "cell_type": "code",
   "execution_count": 8,
   "id": "8133e30e",
   "metadata": {},
   "outputs": [
    {
     "data": {
      "text/html": [
       "<div>\n",
       "<style scoped>\n",
       "    .dataframe tbody tr th:only-of-type {\n",
       "        vertical-align: middle;\n",
       "    }\n",
       "\n",
       "    .dataframe tbody tr th {\n",
       "        vertical-align: top;\n",
       "    }\n",
       "\n",
       "    .dataframe thead th {\n",
       "        text-align: right;\n",
       "    }\n",
       "</style>\n",
       "<table border=\"1\" class=\"dataframe\">\n",
       "  <thead>\n",
       "    <tr style=\"text-align: right;\">\n",
       "      <th></th>\n",
       "      <th>name</th>\n",
       "      <th>address</th>\n",
       "      <th>coordinates</th>\n",
       "    </tr>\n",
       "  </thead>\n",
       "  <tbody>\n",
       "    <tr>\n",
       "      <th>0</th>\n",
       "      <td>Codeup</td>\n",
       "      <td>600 Navarro St #600, San Antonio, TX 78205</td>\n",
       "      <td>{'lat': 29.4267857, 'lng': -98.4895763}</td>\n",
       "    </tr>\n",
       "    <tr>\n",
       "      <th>1</th>\n",
       "      <td>Schilo's</td>\n",
       "      <td>424 E Commerce St, San Antonio, TX 78205</td>\n",
       "      <td>{'lat': 29.4236082, 'lng': -98.4883196}</td>\n",
       "    </tr>\n",
       "    <tr>\n",
       "      <th>2</th>\n",
       "      <td>Bunz</td>\n",
       "      <td>122 E Houston St, San Antonio, TX 78205</td>\n",
       "      <td>{'lat': 29.4263142, 'lng': -98.4929289}</td>\n",
       "    </tr>\n",
       "  </tbody>\n",
       "</table>\n",
       "</div>"
      ],
      "text/plain": [
       "       name                                     address  \\\n",
       "0    Codeup  600 Navarro St #600, San Antonio, TX 78205   \n",
       "1  Schilo's    424 E Commerce St, San Antonio, TX 78205   \n",
       "2      Bunz     122 E Houston St, San Antonio, TX 78205   \n",
       "\n",
       "                               coordinates  \n",
       "0  {'lat': 29.4267857, 'lng': -98.4895763}  \n",
       "1  {'lat': 29.4236082, 'lng': -98.4883196}  \n",
       "2  {'lat': 29.4263142, 'lng': -98.4929289}  "
      ]
     },
     "execution_count": 8,
     "metadata": {},
     "output_type": "execute_result"
    }
   ],
   "source": [
    "df"
   ]
  },
  {
   "cell_type": "markdown",
   "id": "afec93b2",
   "metadata": {},
   "source": [
    "#### Separate the coordinates into distinct values for latitude and longitude"
   ]
  },
  {
   "cell_type": "code",
   "execution_count": 9,
   "id": "28ffe77b",
   "metadata": {},
   "outputs": [],
   "source": [
    "# create separate columns for latitude/longitude\n",
    "df['latitude'] = df.coordinates.apply(lambda x: x['lat'])\n",
    "df['longitude'] = df.coordinates.apply(lambda x: x['lng'])\n",
    "# drop coordinates column\n",
    "df = df.drop(columns='coordinates')"
   ]
  },
  {
   "cell_type": "code",
   "execution_count": 10,
   "id": "07345b04",
   "metadata": {},
   "outputs": [
    {
     "data": {
      "text/html": [
       "<div>\n",
       "<style scoped>\n",
       "    .dataframe tbody tr th:only-of-type {\n",
       "        vertical-align: middle;\n",
       "    }\n",
       "\n",
       "    .dataframe tbody tr th {\n",
       "        vertical-align: top;\n",
       "    }\n",
       "\n",
       "    .dataframe thead th {\n",
       "        text-align: right;\n",
       "    }\n",
       "</style>\n",
       "<table border=\"1\" class=\"dataframe\">\n",
       "  <thead>\n",
       "    <tr style=\"text-align: right;\">\n",
       "      <th></th>\n",
       "      <th>name</th>\n",
       "      <th>address</th>\n",
       "      <th>latitude</th>\n",
       "      <th>longitude</th>\n",
       "    </tr>\n",
       "  </thead>\n",
       "  <tbody>\n",
       "    <tr>\n",
       "      <th>0</th>\n",
       "      <td>Codeup</td>\n",
       "      <td>600 Navarro St #600, San Antonio, TX 78205</td>\n",
       "      <td>29.426786</td>\n",
       "      <td>-98.489576</td>\n",
       "    </tr>\n",
       "    <tr>\n",
       "      <th>1</th>\n",
       "      <td>Schilo's</td>\n",
       "      <td>424 E Commerce St, San Antonio, TX 78205</td>\n",
       "      <td>29.423608</td>\n",
       "      <td>-98.488320</td>\n",
       "    </tr>\n",
       "    <tr>\n",
       "      <th>2</th>\n",
       "      <td>Bunz</td>\n",
       "      <td>122 E Houston St, San Antonio, TX 78205</td>\n",
       "      <td>29.426314</td>\n",
       "      <td>-98.492929</td>\n",
       "    </tr>\n",
       "  </tbody>\n",
       "</table>\n",
       "</div>"
      ],
      "text/plain": [
       "       name                                     address   latitude  longitude\n",
       "0    Codeup  600 Navarro St #600, San Antonio, TX 78205  29.426786 -98.489576\n",
       "1  Schilo's    424 E Commerce St, San Antonio, TX 78205  29.423608 -98.488320\n",
       "2      Bunz     122 E Houston St, San Antonio, TX 78205  29.426314 -98.492929"
      ]
     },
     "execution_count": 10,
     "metadata": {},
     "output_type": "execute_result"
    }
   ],
   "source": [
    "df"
   ]
  },
  {
   "cell_type": "code",
   "execution_count": 12,
   "id": "f7972723",
   "metadata": {},
   "outputs": [],
   "source": [
    "df.to_csv('example_df.csv')"
   ]
  },
  {
   "cell_type": "code",
   "execution_count": null,
   "id": "740b1996",
   "metadata": {},
   "outputs": [],
   "source": []
  }
 ],
 "metadata": {
  "kernelspec": {
   "display_name": "Python 3 (ipykernel)",
   "language": "python",
   "name": "python3"
  },
  "language_info": {
   "codemirror_mode": {
    "name": "ipython",
    "version": 3
   },
   "file_extension": ".py",
   "mimetype": "text/x-python",
   "name": "python",
   "nbconvert_exporter": "python",
   "pygments_lexer": "ipython3",
   "version": "3.9.7"
  }
 },
 "nbformat": 4,
 "nbformat_minor": 5
}

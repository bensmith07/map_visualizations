{
 "cells": [
  {
   "cell_type": "markdown",
   "id": "f023fc7b",
   "metadata": {},
   "source": [
    "# Geopandas Plotting"
   ]
  },
  {
   "cell_type": "markdown",
   "id": "0aa2a314",
   "metadata": {},
   "source": [
    "## Learning to plot latitude/longitude data points using Geopandas\n",
    "\n",
    "Learned via tutorial found at https://towardsdatascience.com/geopandas-101-plot-any-data-with-a-latitude-and-longitude-on-a-map-98e01944b972"
   ]
  },
  {
   "cell_type": "markdown",
   "id": "6ea8e02b",
   "metadata": {},
   "source": [
    "Install the requisite packages:\n",
    "\n",
    "`conda install -c conda-forge descartes`\n",
    "\n",
    "`conda install -c conda-forge shapely`\n",
    "\n",
    "`conda install geopandas`"
   ]
  },
  {
   "cell_type": "code",
   "execution_count": null,
   "id": "20d23067",
   "metadata": {},
   "outputs": [],
   "source": [
    "#TODO: Having problems with geopandas install. Need to deconflict existing modules/packages?"
   ]
  },
  {
   "cell_type": "code",
   "execution_count": null,
   "id": "9223b958",
   "metadata": {},
   "outputs": [],
   "source": [
    "# imports, etc\n",
    "\n",
    "import pandas as pd\n",
    "import matplotlib.pyplot as plt\n",
    "import descartes\n",
    "from shapely.geometry import Point, Polygon\n",
    "\n",
    "import geopandas as gpd\n",
    "\n",
    "df = pd.read_csv('example_df.csv')"
   ]
  },
  {
   "cell_type": "code",
   "execution_count": null,
   "id": "100d31c5",
   "metadata": {},
   "outputs": [],
   "source": [
    "%matplotlib inline"
   ]
  },
  {
   "cell_type": "code",
   "execution_count": null,
   "id": "9992a07e",
   "metadata": {},
   "outputs": [],
   "source": [
    "# read in shape file to use as a base map\n",
    "map1 = gpd.read_file('addresses/addresses.shp')"
   ]
  }
 ],
 "metadata": {
  "kernelspec": {
   "display_name": "Python 3 (ipykernel)",
   "language": "python",
   "name": "python3"
  },
  "language_info": {
   "codemirror_mode": {
    "name": "ipython",
    "version": 3
   },
   "file_extension": ".py",
   "mimetype": "text/x-python",
   "name": "python",
   "nbconvert_exporter": "python",
   "pygments_lexer": "ipython3",
   "version": "3.9.7"
  }
 },
 "nbformat": 4,
 "nbformat_minor": 5
}
